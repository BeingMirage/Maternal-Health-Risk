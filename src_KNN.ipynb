{
 "cells": [
  {
   "cell_type": "code",
   "execution_count": 35,
   "id": "74dcc846-a0b8-42c1-a39f-3497c417f7c4",
   "metadata": {},
   "outputs": [],
   "source": [
    "import numpy as np \n",
    "import pandas as pd \n",
    "from sklearn.model_selection import train_test_split \n",
    "from sklearn.neighbors import KNeighborsClassifier \n",
    "import matplotlib.pyplot as plt  \n",
    "import seaborn as sns "
   ]
  },
  {
   "cell_type": "code",
   "execution_count": 37,
   "id": "959f7c1e-2b76-4bae-bec2-c48a7eab276b",
   "metadata": {},
   "outputs": [
    {
     "name": "stdout",
     "output_type": "stream",
     "text": [
      "   Age  SystolicBP  DiastolicBP    BS  BodyTemp  HeartRate  RiskLevel\n",
      "0   25         130           80  15.0      98.0         86  high risk\n",
      "1   35         140           90  13.0      98.0         70  high risk\n",
      "2   29          90           70   8.0     100.0         80  high risk\n",
      "3   30         140           85   7.0      98.0         70  high risk\n",
      "4   35         120           60   6.1      98.0         76   low risk\n",
      "   Age  SystolicBP  DiastolicBP    BS  BodyTemp  HeartRate  Risk\n",
      "0   25         130           80  15.0      98.0         86     0\n",
      "1   35         140           90  13.0      98.0         70     0\n",
      "2   29          90           70   8.0     100.0         80     0\n",
      "3   30         140           85   7.0      98.0         70     0\n",
      "4   35         120           60   6.1      98.0         76     1\n"
     ]
    }
   ],
   "source": [
    "df = pd.read_csv(\"Maternal_Health.csv\")\n",
    "print(df.head())\n",
    "df['Risk'] = pd.factorize(df['RiskLevel'])[0]\n",
    "df.drop('RiskLevel', axis=1, inplace=True)\n",
    "print(df.head())\n",
    "X = df.drop('Risk', axis=1) \n",
    "y = df['Risk']\n",
    "\n",
    "# Split into training and test sets\n",
    "X_train, X_test, y_train, y_test = train_test_split(X, y, test_size=0.2, random_state=42)"
   ]
  },
  {
   "cell_type": "code",
   "execution_count": 39,
   "id": "539d4bd5-7c39-4020-a2ea-1334ada746f1",
   "metadata": {},
   "outputs": [],
   "source": [
    "K = [] \n",
    "training = [] \n",
    "test = [] \n",
    "scores = {} \n",
    "  \n",
    "for k in range(2, 21): \n",
    "    clf = KNeighborsClassifier(n_neighbors = k) \n",
    "    clf.fit(X_train, y_train) \n",
    "  \n",
    "    training_score = clf.score(X_train, y_train) \n",
    "    test_score = clf.score(X_test, y_test) \n",
    "    K.append(k) \n",
    "  \n",
    "    training.append(training_score) \n",
    "    test.append(test_score) \n",
    "    scores[k] = [training_score, test_score] \n"
   ]
  },
  {
   "cell_type": "code",
   "execution_count": 41,
   "id": "758c1cc4-9ee9-4d1b-9c25-1320015b2395",
   "metadata": {},
   "outputs": [
    {
     "name": "stdout",
     "output_type": "stream",
     "text": [
      "2 : [0.8865598027127004, 0.729064039408867]\n",
      "3 : [0.8927250308261405, 0.7241379310344828]\n",
      "4 : [0.815043156596794, 0.6502463054187192]\n",
      "5 : [0.7866831072749692, 0.6945812807881774]\n",
      "6 : [0.7583230579531443, 0.6896551724137931]\n",
      "7 : [0.7669543773119606, 0.6798029556650246]\n",
      "8 : [0.749691738594328, 0.6551724137931034]\n",
      "9 : [0.752157829839704, 0.645320197044335]\n",
      "10 : [0.7127003699136868, 0.6108374384236454]\n",
      "11 : [0.7163995067817509, 0.6403940886699507]\n",
      "12 : [0.7151664611590629, 0.6354679802955665]\n",
      "13 : [0.7003699136868065, 0.6305418719211823]\n",
      "14 : [0.6991368680641183, 0.6403940886699507]\n",
      "15 : [0.7003699136868065, 0.6206896551724138]\n",
      "16 : [0.7016029593094945, 0.6403940886699507]\n",
      "17 : [0.6905055487053021, 0.6354679802955665]\n",
      "18 : [0.6966707768187423, 0.6354679802955665]\n",
      "19 : [0.6991368680641183, 0.6354679802955665]\n",
      "20 : [0.6979038224414303, 0.625615763546798]\n"
     ]
    }
   ],
   "source": [
    "for keys, values in scores.items(): \n",
    "    print(keys, ':', values) "
   ]
  },
  {
   "cell_type": "code",
   "execution_count": 49,
   "id": "d2b87d8f-f799-44a6-885a-c3ebfc8de818",
   "metadata": {},
   "outputs": [
    {
     "name": "stdout",
     "output_type": "stream",
     "text": [
      "Accuracy: 0.625615763546798\n",
      "Classification Report:\n",
      "              precision    recall  f1-score   support\n",
      "\n",
      "           0       0.74      0.66      0.70        47\n",
      "           1       0.57      0.74      0.64        80\n",
      "           2       0.65      0.49      0.56        76\n",
      "\n",
      "    accuracy                           0.63       203\n",
      "   macro avg       0.65      0.63      0.63       203\n",
      "weighted avg       0.64      0.63      0.62       203\n",
      "\n",
      "Confusion Matrix:\n",
      "[[31 11  5]\n",
      " [ 6 59 15]\n",
      " [ 5 34 37]]\n"
     ]
    }
   ],
   "source": [
    "# Predict on the test set\n",
    "y_pred = clf.predict(X_test)\n",
    "\n",
    "print(\"Accuracy:\", accuracy_score(y_test, y_pred))\n",
    "print(\"Classification Report:\")\n",
    "print(classification_report(y_test, y_pred))\n",
    "print(\"Confusion Matrix:\")\n",
    "print(confusion_matrix(y_test, y_pred))"
   ]
  },
  {
   "cell_type": "code",
   "execution_count": null,
   "id": "a8b1743f-f66d-4689-807d-86fe6c56041a",
   "metadata": {},
   "outputs": [],
   "source": []
  },
  {
   "cell_type": "code",
   "execution_count": null,
   "id": "cba537e6-88a4-4206-a3ec-4b29e962b151",
   "metadata": {},
   "outputs": [],
   "source": []
  }
 ],
 "metadata": {
  "kernelspec": {
   "display_name": "cuda-gpt",
   "language": "python",
   "name": "cuda"
  },
  "language_info": {
   "codemirror_mode": {
    "name": "ipython",
    "version": 3
   },
   "file_extension": ".py",
   "mimetype": "text/x-python",
   "name": "python",
   "nbconvert_exporter": "python",
   "pygments_lexer": "ipython3",
   "version": "3.12.7"
  }
 },
 "nbformat": 4,
 "nbformat_minor": 5
}
