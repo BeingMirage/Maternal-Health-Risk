{
 "cells": [
  {
   "cell_type": "code",
   "execution_count": 2,
   "id": "cc090c97-b329-4fc3-98d8-565ce96ab30c",
   "metadata": {
    "scrolled": true
   },
   "outputs": [],
   "source": [
    "import torch\n",
    "import torch.nn as nn\n",
    "import torch.nn.functional as F\n",
    "import numpy as np\n",
    "import pandas as pd\n",
    "import matplotlib.pyplot as plt\n",
    "import seaborn as sns\n",
    "from sklearn.metrics import classification_report, confusion_matrix, accuracy_score\n",
    "%matplotlib inline"
   ]
  },
  {
   "cell_type": "code",
   "execution_count": 3,
   "id": "d2875232-72df-4254-b75a-2f9eb96c668c",
   "metadata": {},
   "outputs": [
    {
     "name": "stdout",
     "output_type": "stream",
     "text": [
      "cpu\n"
     ]
    }
   ],
   "source": [
    "device = 'cuda' if torch.cuda.is_available() else 'cpu'\n",
    "print(device)"
   ]
  },
  {
   "cell_type": "code",
   "execution_count": 4,
   "id": "8728eef9-7039-4f85-8937-300a2779d4ba",
   "metadata": {},
   "outputs": [],
   "source": [
    "df = pd.read_csv(\"Maternal_Health.csv\")"
   ]
  },
  {
   "cell_type": "code",
   "execution_count": 5,
   "id": "642955f3-63cc-4240-9477-729eeeb8406a",
   "metadata": {},
   "outputs": [
    {
     "data": {
      "text/html": [
       "<div>\n",
       "<style scoped>\n",
       "    .dataframe tbody tr th:only-of-type {\n",
       "        vertical-align: middle;\n",
       "    }\n",
       "\n",
       "    .dataframe tbody tr th {\n",
       "        vertical-align: top;\n",
       "    }\n",
       "\n",
       "    .dataframe thead th {\n",
       "        text-align: right;\n",
       "    }\n",
       "</style>\n",
       "<table border=\"1\" class=\"dataframe\">\n",
       "  <thead>\n",
       "    <tr style=\"text-align: right;\">\n",
       "      <th></th>\n",
       "      <th>Age</th>\n",
       "      <th>SystolicBP</th>\n",
       "      <th>DiastolicBP</th>\n",
       "      <th>BS</th>\n",
       "      <th>BodyTemp</th>\n",
       "      <th>HeartRate</th>\n",
       "      <th>RiskLevel</th>\n",
       "    </tr>\n",
       "  </thead>\n",
       "  <tbody>\n",
       "    <tr>\n",
       "      <th>0</th>\n",
       "      <td>25</td>\n",
       "      <td>130</td>\n",
       "      <td>80</td>\n",
       "      <td>15.0</td>\n",
       "      <td>98.0</td>\n",
       "      <td>86</td>\n",
       "      <td>high risk</td>\n",
       "    </tr>\n",
       "    <tr>\n",
       "      <th>1</th>\n",
       "      <td>35</td>\n",
       "      <td>140</td>\n",
       "      <td>90</td>\n",
       "      <td>13.0</td>\n",
       "      <td>98.0</td>\n",
       "      <td>70</td>\n",
       "      <td>high risk</td>\n",
       "    </tr>\n",
       "    <tr>\n",
       "      <th>2</th>\n",
       "      <td>29</td>\n",
       "      <td>90</td>\n",
       "      <td>70</td>\n",
       "      <td>8.0</td>\n",
       "      <td>100.0</td>\n",
       "      <td>80</td>\n",
       "      <td>high risk</td>\n",
       "    </tr>\n",
       "    <tr>\n",
       "      <th>3</th>\n",
       "      <td>30</td>\n",
       "      <td>140</td>\n",
       "      <td>85</td>\n",
       "      <td>7.0</td>\n",
       "      <td>98.0</td>\n",
       "      <td>70</td>\n",
       "      <td>high risk</td>\n",
       "    </tr>\n",
       "    <tr>\n",
       "      <th>4</th>\n",
       "      <td>35</td>\n",
       "      <td>120</td>\n",
       "      <td>60</td>\n",
       "      <td>6.1</td>\n",
       "      <td>98.0</td>\n",
       "      <td>76</td>\n",
       "      <td>low risk</td>\n",
       "    </tr>\n",
       "  </tbody>\n",
       "</table>\n",
       "</div>"
      ],
      "text/plain": [
       "   Age  SystolicBP  DiastolicBP    BS  BodyTemp  HeartRate  RiskLevel\n",
       "0   25         130           80  15.0      98.0         86  high risk\n",
       "1   35         140           90  13.0      98.0         70  high risk\n",
       "2   29          90           70   8.0     100.0         80  high risk\n",
       "3   30         140           85   7.0      98.0         70  high risk\n",
       "4   35         120           60   6.1      98.0         76   low risk"
      ]
     },
     "execution_count": 5,
     "metadata": {},
     "output_type": "execute_result"
    }
   ],
   "source": [
    "df.head()"
   ]
  },
  {
   "cell_type": "code",
   "execution_count": 6,
   "id": "05c0d442-d5f7-41a7-9be9-6840330403bd",
   "metadata": {},
   "outputs": [],
   "source": [
    "df['Risk'] = pd.factorize(df['RiskLevel'])[0]\n",
    "df.drop('RiskLevel', axis=1, inplace=True)"
   ]
  },
  {
   "cell_type": "code",
   "execution_count": 7,
   "id": "638ac5a1-6a20-4efc-b43f-330738946bf2",
   "metadata": {},
   "outputs": [
    {
     "data": {
      "text/html": [
       "<div>\n",
       "<style scoped>\n",
       "    .dataframe tbody tr th:only-of-type {\n",
       "        vertical-align: middle;\n",
       "    }\n",
       "\n",
       "    .dataframe tbody tr th {\n",
       "        vertical-align: top;\n",
       "    }\n",
       "\n",
       "    .dataframe thead th {\n",
       "        text-align: right;\n",
       "    }\n",
       "</style>\n",
       "<table border=\"1\" class=\"dataframe\">\n",
       "  <thead>\n",
       "    <tr style=\"text-align: right;\">\n",
       "      <th></th>\n",
       "      <th>Age</th>\n",
       "      <th>SystolicBP</th>\n",
       "      <th>DiastolicBP</th>\n",
       "      <th>BS</th>\n",
       "      <th>BodyTemp</th>\n",
       "      <th>HeartRate</th>\n",
       "      <th>Risk</th>\n",
       "    </tr>\n",
       "  </thead>\n",
       "  <tbody>\n",
       "    <tr>\n",
       "      <th>0</th>\n",
       "      <td>25</td>\n",
       "      <td>130</td>\n",
       "      <td>80</td>\n",
       "      <td>15.0</td>\n",
       "      <td>98.0</td>\n",
       "      <td>86</td>\n",
       "      <td>0</td>\n",
       "    </tr>\n",
       "    <tr>\n",
       "      <th>1</th>\n",
       "      <td>35</td>\n",
       "      <td>140</td>\n",
       "      <td>90</td>\n",
       "      <td>13.0</td>\n",
       "      <td>98.0</td>\n",
       "      <td>70</td>\n",
       "      <td>0</td>\n",
       "    </tr>\n",
       "    <tr>\n",
       "      <th>2</th>\n",
       "      <td>29</td>\n",
       "      <td>90</td>\n",
       "      <td>70</td>\n",
       "      <td>8.0</td>\n",
       "      <td>100.0</td>\n",
       "      <td>80</td>\n",
       "      <td>0</td>\n",
       "    </tr>\n",
       "    <tr>\n",
       "      <th>3</th>\n",
       "      <td>30</td>\n",
       "      <td>140</td>\n",
       "      <td>85</td>\n",
       "      <td>7.0</td>\n",
       "      <td>98.0</td>\n",
       "      <td>70</td>\n",
       "      <td>0</td>\n",
       "    </tr>\n",
       "    <tr>\n",
       "      <th>4</th>\n",
       "      <td>35</td>\n",
       "      <td>120</td>\n",
       "      <td>60</td>\n",
       "      <td>6.1</td>\n",
       "      <td>98.0</td>\n",
       "      <td>76</td>\n",
       "      <td>1</td>\n",
       "    </tr>\n",
       "  </tbody>\n",
       "</table>\n",
       "</div>"
      ],
      "text/plain": [
       "   Age  SystolicBP  DiastolicBP    BS  BodyTemp  HeartRate  Risk\n",
       "0   25         130           80  15.0      98.0         86     0\n",
       "1   35         140           90  13.0      98.0         70     0\n",
       "2   29          90           70   8.0     100.0         80     0\n",
       "3   30         140           85   7.0      98.0         70     0\n",
       "4   35         120           60   6.1      98.0         76     1"
      ]
     },
     "execution_count": 7,
     "metadata": {},
     "output_type": "execute_result"
    }
   ],
   "source": [
    "df.head()"
   ]
  },
  {
   "cell_type": "code",
   "execution_count": 8,
   "id": "858f668b-9f1d-40ae-a8c3-265d56ef2f33",
   "metadata": {},
   "outputs": [
    {
     "data": {
      "image/png": "[encoded data removed]",
      "text/plain": [
       "<Figure size 640x480 with 2 Axes>"
      ]
     },
     "metadata": {},
     "output_type": "display_data"
    }
   ],
   "source": [
    "#PLOTS A GRAPH OF THE CORRELATION BETWEEN EACH VARIABLE IN THE DATASET\n",
    "correlation_matrix = df.corr(numeric_only = True)\n",
    "dataplot = sns.heatmap(correlation_matrix , cmap=\"YlGnBu\", annot=True)"
   ]
  },
  {
   "cell_type": "code",
   "execution_count": 9,
   "id": "b78daa0f-cb70-420b-b001-499ca91a9b7e",
   "metadata": {},
   "outputs": [],
   "source": [
    "class Model(nn.Module):\n",
    "    # Input Layer -> Hidden Layers -> Output Layer\n",
    "    def __init__(self, in_features=6, h1=8, h2=9, h3=10, h4=12, out_features=3): \n",
    "        super().__init__()\n",
    "        self.fc1 = nn.Linear(in_features, h1)  # Input to first hidden layer\n",
    "        self.fc2 = nn.Linear(h1, h2)  # First to second hidden layer\n",
    "        self.fc3 = nn.Linear(h2, h3)  # Second to third hidden layer\n",
    "        self.fc4 = nn.Linear(h3, h4)  # Third to fourth hidden layer\n",
    "        self.out = nn.Linear(h4, out_features)  # Fourth hidden to output layer\n",
    "\n",
    "    def forward(self, x):\n",
    "        x = F.relu(self.fc1(x))  # Apply ReLU after first hidden layer\n",
    "        x = F.relu(self.fc2(x))  # Apply ReLU after second hidden layer\n",
    "        x = F.relu(self.fc3(x))  # Apply ReLU after third hidden layer\n",
    "        x = F.relu(self.fc4(x))  # Apply ReLU after fourth hidden layer\n",
    "        x = self.out(x)  # Output layer (logits, no activation here)\n",
    "        return x"
   ]
  },
  {
   "cell_type": "code",
   "execution_count": 10,
   "id": "9997f0f5-36be-448c-a27f-f716838e5d60",
   "metadata": {},
   "outputs": [],
   "source": [
    "# Seed Randomisation \n",
    "torch.manual_seed(41)\n",
    "#Create an instance of our model\n",
    "model = Model()"
   ]
  },
  {
   "cell_type": "code",
   "execution_count": 11,
   "id": "886c1e22-ce8d-4fc9-8c13-979d4955c4a9",
   "metadata": {},
   "outputs": [],
   "source": [
    "#Split data into train and test i.e X and Y respt.\n",
    "X = df.drop('Risk' , axis=1 )\n",
    "Y = df['Risk']"
   ]
  },
  {
   "cell_type": "code",
   "execution_count": 12,
   "id": "8939bce8-57f7-4338-924b-b44ec03f7678",
   "metadata": {},
   "outputs": [
    {
     "data": {
      "text/html": [
       "<div>\n",
       "<style scoped>\n",
       "    .dataframe tbody tr th:only-of-type {\n",
       "        vertical-align: middle;\n",
       "    }\n",
       "\n",
       "    .dataframe tbody tr th {\n",
       "        vertical-align: top;\n",
       "    }\n",
       "\n",
       "    .dataframe thead th {\n",
       "        text-align: right;\n",
       "    }\n",
       "</style>\n",
       "<table border=\"1\" class=\"dataframe\">\n",
       "  <thead>\n",
       "    <tr style=\"text-align: right;\">\n",
       "      <th></th>\n",
       "      <th>Age</th>\n",
       "      <th>SystolicBP</th>\n",
       "      <th>DiastolicBP</th>\n",
       "      <th>BS</th>\n",
       "      <th>BodyTemp</th>\n",
       "      <th>HeartRate</th>\n",
       "    </tr>\n",
       "  </thead>\n",
       "  <tbody>\n",
       "    <tr>\n",
       "      <th>0</th>\n",
       "      <td>25</td>\n",
       "      <td>130</td>\n",
       "      <td>80</td>\n",
       "      <td>15.0</td>\n",
       "      <td>98.0</td>\n",
       "      <td>86</td>\n",
       "    </tr>\n",
       "    <tr>\n",
       "      <th>1</th>\n",
       "      <td>35</td>\n",
       "      <td>140</td>\n",
       "      <td>90</td>\n",
       "      <td>13.0</td>\n",
       "      <td>98.0</td>\n",
       "      <td>70</td>\n",
       "    </tr>\n",
       "    <tr>\n",
       "      <th>2</th>\n",
       "      <td>29</td>\n",
       "      <td>90</td>\n",
       "      <td>70</td>\n",
       "      <td>8.0</td>\n",
       "      <td>100.0</td>\n",
       "      <td>80</td>\n",
       "    </tr>\n",
       "    <tr>\n",
       "      <th>3</th>\n",
       "      <td>30</td>\n",
       "      <td>140</td>\n",
       "      <td>85</td>\n",
       "      <td>7.0</td>\n",
       "      <td>98.0</td>\n",
       "      <td>70</td>\n",
       "    </tr>\n",
       "    <tr>\n",
       "      <th>4</th>\n",
       "      <td>35</td>\n",
       "      <td>120</td>\n",
       "      <td>60</td>\n",
       "      <td>6.1</td>\n",
       "      <td>98.0</td>\n",
       "      <td>76</td>\n",
       "    </tr>\n",
       "  </tbody>\n",
       "</table>\n",
       "</div>"
      ],
      "text/plain": [
       "   Age  SystolicBP  DiastolicBP    BS  BodyTemp  HeartRate\n",
       "0   25         130           80  15.0      98.0         86\n",
       "1   35         140           90  13.0      98.0         70\n",
       "2   29          90           70   8.0     100.0         80\n",
       "3   30         140           85   7.0      98.0         70\n",
       "4   35         120           60   6.1      98.0         76"
      ]
     },
     "execution_count": 12,
     "metadata": {},
     "output_type": "execute_result"
    }
   ],
   "source": [
    "X.head()"
   ]
  },
  {
   "cell_type": "code",
   "execution_count": 13,
   "id": "d1e1decc-db37-4ae3-97ba-eacc03b82bdd",
   "metadata": {},
   "outputs": [
    {
     "data": {
      "text/plain": [
       "0    0\n",
       "1    0\n",
       "2    0\n",
       "3    0\n",
       "4    1\n",
       "Name: Risk, dtype: int64"
      ]
     },
     "execution_count": 13,
     "metadata": {},
     "output_type": "execute_result"
    }
   ],
   "source": [
    "Y.head()"
   ]
  },
  {
   "cell_type": "code",
   "execution_count": 14,
   "id": "397a317a-884d-4bd2-9eda-78609c8c2f9e",
   "metadata": {},
   "outputs": [],
   "source": [
    "#CONVERT TO NUMPY ARRAYS\n",
    "X = X.values\n",
    "Y = Y.values"
   ]
  },
  {
   "cell_type": "code",
   "execution_count": 15,
   "id": "a96f3c06-7005-45ed-81c3-810b7062f40b",
   "metadata": {},
   "outputs": [
    {
     "data": {
      "text/plain": [
       "array([0, 0, 0, ..., 0, 0, 2])"
      ]
     },
     "execution_count": 15,
     "metadata": {},
     "output_type": "execute_result"
    }
   ],
   "source": [
    "Y"
   ]
  },
  {
   "cell_type": "code",
   "execution_count": 16,
   "id": "e3545a2a-416e-4cfa-8a6c-15e01eefbd99",
   "metadata": {},
   "outputs": [
    {
     "name": "stdout",
     "output_type": "stream",
     "text": [
      "X_train shape: (812, 6), X_test shape: (202, 6)\n",
      "Y_train shape: (812,), Y_test shape: (202,)\n"
     ]
    }
   ],
   "source": [
    "# Set the test size and random seed\n",
    "test_size = 0.2\n",
    "random_seed = 41\n",
    "\n",
    "# Ensure reproducibility\n",
    "np.random.seed(random_seed)\n",
    "\n",
    "# Shuffle indices\n",
    "indices = np.arange(len(X))\n",
    "np.random.shuffle(indices)\n",
    "\n",
    "# Calculate split index\n",
    "test_count = int(len(X) * test_size)\n",
    "\n",
    "# Split indices\n",
    "test_indices = indices[:test_count]\n",
    "train_indices = indices[test_count:]\n",
    "\n",
    "# Create train-test split\n",
    "X_train, X_test = X[train_indices], X[test_indices]\n",
    "Y_train, Y_test = Y[train_indices], Y[test_indices]\n",
    "\n",
    "# Print sizes to verify\n",
    "print(f\"X_train shape: {X_train.shape}, X_test shape: {X_test.shape}\")\n",
    "print(f\"Y_train shape: {Y_train.shape}, Y_test shape: {Y_test.shape}\")"
   ]
  },
  {
   "cell_type": "code",
   "execution_count": 17,
   "id": "4e485ed4-85d9-45e1-9a22-bd0aa837a4f1",
   "metadata": {},
   "outputs": [],
   "source": [
    "#Convert X features to flaot tensors ( 32 bit )\n",
    "X_train = torch.FloatTensor(X_train)\n",
    "X_test = torch.FloatTensor(X_test)"
   ]
  },
  {
   "cell_type": "code",
   "execution_count": 18,
   "id": "34d774bf-660f-44d7-a4d8-6a4fcb0d35db",
   "metadata": {},
   "outputs": [],
   "source": [
    "#Convert Y features to long tensors ( 64 bit )\n",
    "Y_train = torch.LongTensor(Y_train)\n",
    "Y_test = torch.LongTensor(Y_test)"
   ]
  },
  {
   "cell_type": "code",
   "execution_count": 19,
   "id": "7cfd62a3-7edc-48ec-812d-546c8ddf3d45",
   "metadata": {},
   "outputs": [
    {
     "data": {
      "text/plain": [
       "<bound method Module.parameters of Model(\n",
       "  (fc1): Linear(in_features=6, out_features=8, bias=True)\n",
       "  (fc2): Linear(in_features=8, out_features=9, bias=True)\n",
       "  (fc3): Linear(in_features=9, out_features=10, bias=True)\n",
       "  (fc4): Linear(in_features=10, out_features=12, bias=True)\n",
       "  (out): Linear(in_features=12, out_features=3, bias=True)\n",
       ")>"
      ]
     },
     "execution_count": 19,
     "metadata": {},
     "output_type": "execute_result"
    }
   ],
   "source": [
    "model.parameters  #Model parameters for reference"
   ]
  },
  {
   "cell_type": "code",
   "execution_count": 20,
   "id": "3fccae98-4bc4-474a-977f-3d050fcbcdd7",
   "metadata": {},
   "outputs": [],
   "source": [
    "#Set criterion of model to measure error\n",
    "criterion = nn.CrossEntropyLoss()\n",
    "#Using Adam optimizer\n",
    "# here , lr = learning rate of the model\n",
    "optimizer = torch.optim.Adam( model.parameters() , lr = 0.01 )\n",
    "\n",
    "scheduler = torch.optim.lr_scheduler.StepLR(optimizer, step_size=10, gamma=0.1)\n"
   ]
  },
  {
   "cell_type": "code",
   "execution_count": 21,
   "id": "67c148c4-f75e-4358-bf9d-5a1506ba7ce7",
   "metadata": {},
   "outputs": [],
   "source": [
    "#Epochs : one run through all the training data\n",
    "epoch = 400\n",
    "losses = []"
   ]
  },
  {
   "cell_type": "code",
   "execution_count": 22,
   "id": "a6c05625-a0a2-4939-82c4-8bcc65a1cfbc",
   "metadata": {},
   "outputs": [
    {
     "name": "stdout",
     "output_type": "stream",
     "text": [
      "Epoch: 0 and Loss: 2.040106773376465\n",
      "Epoch: 10 and Loss: 1.0873829126358032\n",
      "Epoch: 20 and Loss: 1.0851492881774902\n",
      "Epoch: 30 and Loss: 1.080920696258545\n",
      "Epoch: 40 and Loss: 1.0771112442016602\n",
      "Epoch: 50 and Loss: 1.0667076110839844\n",
      "Epoch: 60 and Loss: 1.0229519605636597\n",
      "Epoch: 70 and Loss: 0.9679008722305298\n",
      "Epoch: 80 and Loss: 0.9226715564727783\n",
      "Epoch: 90 and Loss: 0.8824564218521118\n",
      "Epoch: 100 and Loss: 0.8575403094291687\n",
      "Epoch: 110 and Loss: 0.8636102676391602\n",
      "Epoch: 120 and Loss: 0.8309838175773621\n",
      "Epoch: 130 and Loss: 0.8291682600975037\n",
      "Epoch: 140 and Loss: 0.8163794279098511\n",
      "Epoch: 150 and Loss: 0.8047122955322266\n",
      "Epoch: 160 and Loss: 0.8021747469902039\n",
      "Epoch: 170 and Loss: 0.8008227944374084\n",
      "Epoch: 180 and Loss: 0.7891103625297546\n",
      "Epoch: 190 and Loss: 0.7791279554367065\n",
      "Epoch: 200 and Loss: 0.7728971838951111\n",
      "Epoch: 210 and Loss: 0.7861909866333008\n",
      "Epoch: 220 and Loss: 0.7730079889297485\n",
      "Epoch: 230 and Loss: 0.7661519050598145\n",
      "Epoch: 240 and Loss: 0.7636004686355591\n",
      "Epoch: 250 and Loss: 0.7588043808937073\n",
      "Epoch: 260 and Loss: 0.7709619402885437\n",
      "Epoch: 270 and Loss: 0.7820517420768738\n",
      "Epoch: 280 and Loss: 0.7515677213668823\n",
      "Epoch: 290 and Loss: 0.7432562708854675\n",
      "Epoch: 300 and Loss: 0.7457114458084106\n",
      "Epoch: 310 and Loss: 0.7343324422836304\n",
      "Epoch: 320 and Loss: 0.7438077330589294\n",
      "Epoch: 330 and Loss: 0.7214224934577942\n",
      "Epoch: 340 and Loss: 0.7103084325790405\n",
      "Epoch: 350 and Loss: 0.7130130529403687\n",
      "Epoch: 360 and Loss: 0.697661817073822\n",
      "Epoch: 370 and Loss: 0.7443322539329529\n",
      "Epoch: 380 and Loss: 0.7228725552558899\n",
      "Epoch: 390 and Loss: 0.7193461656570435\n"
     ]
    }
   ],
   "source": [
    "for i in range(epoch):\n",
    "    # Go forward and get a prediction\n",
    "    Y_pred = model.forward(X_train)  #Get predicted result\n",
    "\n",
    "    # Measure loss ( will be high at first)\n",
    "    loss = criterion(Y_pred , Y_train) # predicted values VS train value\n",
    "\n",
    "    # Keep track of losses\n",
    "    losses.append(loss.detach().numpy())\n",
    "\n",
    "    # Print every 10 epochs\n",
    "    if i % 10 == 0:\n",
    "        print(f'Epoch: {i} and Loss: {loss}')\n",
    "\n",
    "    #Back-Propogation ( To optimize results) \n",
    "    optimizer.zero_grad()\n",
    "    loss.backward()\n",
    "    optimizer.step()"
   ]
  },
  {
   "cell_type": "code",
   "execution_count": 23,
   "id": "920a68f6-d7b4-48b8-bef5-a44d848f21c1",
   "metadata": {},
   "outputs": [
    {
     "data": {
      "text/plain": [
       "Text(0.5, 0, 'Epochs')"
      ]
     },
     "execution_count": 23,
     "metadata": {},
     "output_type": "execute_result"
    },
    {
     "data": {
      "image/png": "[encoded data removed]",
      "text/plain": [
       "<Figure size 640x480 with 1 Axes>"
      ]
     },
     "metadata": {},
     "output_type": "display_data"
    }
   ],
   "source": [
    "plt.plot(range(epoch) , losses)\n",
    "plt.ylabel(\"Losses / Error\")\n",
    "plt.xlabel(\"Epochs\")"
   ]
  },
  {
   "cell_type": "code",
   "execution_count": 24,
   "id": "21b0df7a-ed80-4327-9fa7-22b413ab5d28",
   "metadata": {},
   "outputs": [],
   "source": [
    "with torch.no_grad(): #Turn off back propogation\n",
    "    #We use the 20% set i.e test set we defined earlier\n",
    "    Y_eval = model.forward(X_test) \n",
    "\n",
    "    #Fine the loss/error\n",
    "    loss = criterion(Y_eval , Y_test)"
   ]
  },
  {
   "cell_type": "code",
   "execution_count": 25,
   "id": "847fec0e-ac1c-4b93-9ff8-d9203a0d8b2b",
   "metadata": {},
   "outputs": [
    {
     "data": {
      "text/plain": [
       "tensor(0.7911)"
      ]
     },
     "execution_count": 25,
     "metadata": {},
     "output_type": "execute_result"
    }
   ],
   "source": [
    "loss #not great , it should be equal to previous train loss"
   ]
  },
  {
   "cell_type": "code",
   "execution_count": 26,
   "id": "3c6cb9df-bed0-46a8-8ed7-8e0836bbf64d",
   "metadata": {
    "scrolled": true
   },
   "outputs": [
    {
     "name": "stdout",
     "output_type": "stream",
     "text": [
      "1.) tensor([-1.6837,  1.8222,  1.3422])     \t 1   \t 1\n",
      "2.) tensor([0.5122, 0.1182, 0.0093])     \t 2   \t 0\n",
      "3.) tensor([-0.5850,  0.9344,  0.6772])     \t 1   \t 1\n",
      "4.) tensor([-1.6859,  1.5136,  1.3458])     \t 1   \t 1\n",
      "5.) tensor([-1.0859,  1.0366,  0.9827])     \t 1   \t 1\n",
      "6.) tensor([-0.9132,  1.0454,  1.8046])     \t 1   \t 2\n",
      "7.) tensor([-1.1804,  1.1555,  1.0393])     \t 1   \t 1\n",
      "8.) tensor([ 3.2687, -0.9873,  0.3055])     \t 0   \t 0\n",
      "9.) tensor([-0.4993,  1.1370,  0.6237])     \t 1   \t 1\n",
      "10.) tensor([-1.6321,  2.3675,  0.1223])     \t 0   \t 1\n",
      "11.) tensor([-0.3727,  1.6110, -0.3796])     \t 1   \t 1\n",
      "12.) tensor([ 3.8720, -2.0309,  1.1035])     \t 0   \t 0\n",
      "13.) tensor([ 3.1508, -1.7364,  1.0393])     \t 0   \t 0\n",
      "14.) tensor([-1.2661,  1.2270,  1.0913])     \t 2   \t 1\n",
      "15.) tensor([ 6.1081, -2.9064,  1.2360])     \t 0   \t 0\n",
      "16.) tensor([-1.4761,  1.5151,  1.2180])     \t 1   \t 1\n",
      "17.) tensor([-1.3204,  1.2228,  1.1244])     \t 2   \t 1\n",
      "18.) tensor([-0.7578,  0.9820,  1.8268])     \t 1   \t 2\n",
      "19.) tensor([-0.0612,  0.9126,  0.3577])     \t 1   \t 1\n",
      "20.) tensor([-1.2661,  1.2270,  1.0913])     \t 2   \t 1\n",
      "21.) tensor([-1.8259,  1.8759,  1.4289])     \t 2   \t 1\n",
      "22.) tensor([ 3.6750, -1.9508,  1.0875])     \t 0   \t 0\n",
      "23.) tensor([0.4481, 0.7297, 0.1635])     \t 2   \t 1\n",
      "24.) tensor([-1.3281,  1.3091,  1.1278])     \t 1   \t 1\n",
      "25.) tensor([ 3.5928, -1.9157,  1.0735])     \t 0   \t 0\n",
      "26.) tensor([-2.0533,  1.8482,  1.4396])     \t 1   \t 1\n",
      "27.) tensor([ 2.6543, -1.4572,  1.1505])     \t 0   \t 0\n",
      "28.) tensor([ 1.3807, -0.1262,  0.2736])     \t 2   \t 0\n",
      "29.) tensor([-1.1467,  1.3872,  1.0174])     \t 2   \t 1\n",
      "30.) tensor([-2.0335,  1.5456,  1.6529])     \t 2   \t 2\n",
      "31.) tensor([ 3.6750, -1.9508,  1.0875])     \t 0   \t 0\n",
      "32.) tensor([-0.7399,  0.9435,  0.7717])     \t 1   \t 1\n",
      "33.) tensor([ 2.9938, -1.5383,  0.8988])     \t 0   \t 0\n",
      "34.) tensor([-1.5980,  1.8211,  1.2903])     \t 1   \t 1\n",
      "35.) tensor([-1.5702,  1.5838,  1.2748])     \t 1   \t 1\n",
      "36.) tensor([ 0.3121,  0.4069, -0.0926])     \t 1   \t 1\n",
      "37.) tensor([-0.4993,  1.1370,  0.6237])     \t 1   \t 1\n",
      "38.) tensor([ 3.1508, -1.7364,  1.0393])     \t 0   \t 0\n",
      "39.) tensor([0.2960, 0.3167, 0.0931])     \t 1   \t 1\n",
      "40.) tensor([ 1.1329, -0.6691,  2.5592])     \t 0   \t 2\n",
      "41.) tensor([ 1.3091, -0.2207,  0.7441])     \t 0   \t 0\n",
      "42.) tensor([0.9105, 0.5651, 0.0300])     \t 2   \t 0\n",
      "43.) tensor([ 3.2437, -1.7739,  1.0471])     \t 0   \t 0\n",
      "44.) tensor([ 0.0024,  0.9726, -0.1826])     \t 1   \t 1\n",
      "45.) tensor([-0.6825,  1.2285,  0.7351])     \t 2   \t 1\n",
      "46.) tensor([ 1.9501, -0.8614,  0.8790])     \t 0   \t 0\n",
      "47.) tensor([-0.0780,  0.8815,  0.3681])     \t 1   \t 1\n",
      "48.) tensor([ 4.5777, -2.3208,  1.1429])     \t 0   \t 0\n",
      "49.) tensor([-0.9132,  1.0454,  1.8046])     \t 2   \t 2\n",
      "50.) tensor([ 0.0667, -1.7425,  3.1762])     \t 2   \t 2\n",
      "51.) tensor([-1.1877,  1.3251,  1.0428])     \t 1   \t 1\n",
      "52.) tensor([-0.6008,  0.9138,  0.6870])     \t 1   \t 1\n",
      "53.) tensor([-0.8049,  1.2283,  0.8080])     \t 2   \t 1\n",
      "54.) tensor([ 5.4793, -2.6596,  1.1917])     \t 0   \t 0\n",
      "55.) tensor([-1.4113,  1.2018,  1.1800])     \t 1   \t 1\n",
      "56.) tensor([0.7366, 0.5333, 0.1417])     \t 1   \t 0\n",
      "57.) tensor([-0.3425,  1.5195,  0.5259])     \t 1   \t 1\n",
      "58.) tensor([-1.3793,  0.7701,  1.4893])     \t 1   \t 2\n",
      "59.) tensor([ 3.2687, -0.9873,  0.3055])     \t 2   \t 0\n",
      "60.) tensor([-0.4367,  1.1050,  0.5857])     \t 2   \t 1\n",
      "61.) tensor([-1.3309,  1.5556,  1.1289])     \t 0   \t 1\n",
      "62.) tensor([ 1.3091, -0.2207,  0.7441])     \t 0   \t 0\n",
      "63.) tensor([-0.9132,  1.0454,  1.8046])     \t 2   \t 2\n",
      "64.) tensor([ 2.4953, -1.1911,  1.1535])     \t 2   \t 0\n",
      "65.) tensor([-2.0136,  1.7864,  1.5442])     \t 1   \t 1\n",
      "66.) tensor([ 0.6470,  0.1355, -0.0737])     \t 1   \t 0\n",
      "67.) tensor([-0.0612,  0.9126,  0.3577])     \t 1   \t 1\n",
      "68.) tensor([ 5.4637, -2.6759,  1.2237])     \t 0   \t 0\n",
      "69.) tensor([-1.0164,  1.2013,  0.9390])     \t 2   \t 1\n",
      "70.) tensor([0.1836, 0.3625, 0.0394])     \t 2   \t 1\n",
      "71.) tensor([0.4481, 0.7297, 0.1635])     \t 2   \t 1\n",
      "72.) tensor([ 0.6470,  0.1355, -0.0737])     \t 2   \t 0\n",
      "73.) tensor([-0.7665,  1.0470,  0.7874])     \t 2   \t 1\n",
      "74.) tensor([-0.3974,  0.8928,  0.5630])     \t 1   \t 1\n",
      "75.) tensor([ 5.1987, -2.5665,  1.1964])     \t 0   \t 0\n",
      "76.) tensor([-0.5805,  0.9052,  0.6746])     \t 1   \t 1\n",
      "77.) tensor([ 3.3679, -1.4723,  0.7127])     \t 0   \t 0\n",
      "78.) tensor([0.2960, 0.3167, 0.0931])     \t 1   \t 1\n",
      "79.) tensor([-1.2712, -0.4584,  2.7378])     \t 2   \t 2\n",
      "80.) tensor([-1.0966,  1.3868,  0.9868])     \t 1   \t 1\n",
      "81.) tensor([-1.2661,  1.2270,  1.0913])     \t 1   \t 1\n",
      "82.) tensor([-0.5635,  1.0555,  0.6633])     \t 1   \t 1\n",
      "83.) tensor([-1.3309,  1.5556,  1.1289])     \t 2   \t 1\n",
      "84.) tensor([-0.4500,  1.6765, -0.4325])     \t 1   \t 1\n",
      "85.) tensor([-1.0249,  1.1468,  0.9432])     \t 1   \t 1\n",
      "86.) tensor([-0.7903,  1.3728,  0.8000])     \t 2   \t 1\n",
      "87.) tensor([-1.5912,  1.6367,  1.2872])     \t 1   \t 1\n",
      "88.) tensor([-1.4486,  1.5612,  1.2007])     \t 1   \t 1\n",
      "89.) tensor([ 3.1557, -1.2967,  0.6134])     \t 0   \t 0\n",
      "90.) tensor([-1.0731,  1.3688,  0.9726])     \t 1   \t 1\n",
      "91.) tensor([-2.1023,  2.3219,  1.1323])     \t 1   \t 1\n",
      "92.) tensor([-0.9301,  1.0273,  0.8873])     \t 1   \t 1\n",
      "93.) tensor([ 1.9501, -0.8614,  0.8790])     \t 2   \t 0\n",
      "94.) tensor([-1.0018,  1.1498,  0.9304])     \t 2   \t 1\n",
      "95.) tensor([-0.8681,  1.1590,  0.8487])     \t 1   \t 1\n",
      "96.) tensor([-0.4450,  1.1830,  0.5904])     \t 1   \t 1\n",
      "97.) tensor([-1.0965,  1.3317,  0.9859])     \t 1   \t 1\n",
      "98.) tensor([-0.9132,  1.0454,  1.8046])     \t 2   \t 2\n",
      "99.) tensor([-1.6185,  1.3799,  1.3054])     \t 1   \t 1\n",
      "100.) tensor([ 1.9501, -0.8614,  0.8790])     \t 2   \t 0\n",
      "101.) tensor([ 5.1577, -2.0094,  0.6845])     \t 0   \t 0\n",
      "102.) tensor([-1.2661,  1.2270,  1.0913])     \t 2   \t 1\n",
      "103.) tensor([-0.9132,  1.0454,  1.8046])     \t 2   \t 2\n",
      "104.) tensor([-1.1804,  1.1555,  1.0393])     \t 1   \t 1\n",
      "105.) tensor([ 4.1229, -2.1341,  1.1289])     \t 0   \t 0\n",
      "106.) tensor([-1.7495,  1.5357,  1.3844])     \t 2   \t 1\n",
      "107.) tensor([-1.2661,  1.2270,  1.0913])     \t 2   \t 1\n",
      "108.) tensor([0.1836, 0.3625, 0.0394])     \t 2   \t 1\n",
      "109.) tensor([-1.6859,  1.5136,  1.3458])     \t 1   \t 1\n",
      "110.) tensor([-0.7120,  1.9434, -0.3524])     \t 1   \t 1\n",
      "111.) tensor([ 1.9501, -0.8614,  0.8790])     \t 2   \t 0\n",
      "112.) tensor([ 3.6135, -1.9241,  1.0751])     \t 2   \t 0\n",
      "113.) tensor([ 2.5701, -0.9529,  0.4685])     \t 0   \t 0\n",
      "114.) tensor([ 2.4953, -1.1911,  1.1535])     \t 0   \t 0\n",
      "115.) tensor([-1.1646,  1.2399,  1.0282])     \t 2   \t 1\n",
      "116.) tensor([-1.9437,  2.0613,  1.5000])     \t 0   \t 1\n",
      "117.) tensor([-1.4224,  1.4675,  1.1852])     \t 1   \t 1\n",
      "118.) tensor([0.1817, 0.3985, 0.1012])     \t 2   \t 1\n",
      "119.) tensor([-2.0479,  1.3156,  2.0531])     \t 2   \t 2\n",
      "120.) tensor([-1.2661,  1.2270,  1.0913])     \t 1   \t 1\n",
      "121.) tensor([-2.1028,  1.4756,  1.9328])     \t 2   \t 2\n",
      "122.) tensor([0.1571, 0.9625, 0.2241])     \t 0   \t 1\n",
      "123.) tensor([ 2.9552, -1.4895,  1.1053])     \t 2   \t 0\n",
      "124.) tensor([-2.0545,  3.6213, -0.3789])     \t 1   \t 1\n",
      "125.) tensor([-1.4086,  1.3931,  1.1766])     \t 1   \t 1\n",
      "126.) tensor([-0.9582,  1.0294,  0.9045])     \t 0   \t 1\n",
      "127.) tensor([-0.7350,  1.0225,  0.7665])     \t 2   \t 1\n",
      "128.) tensor([1.1455, 0.2907, 0.0907])     \t 1   \t 0\n",
      "129.) tensor([0.4511, 0.1014, 0.0468])     \t 0   \t 0\n",
      "130.) tensor([-1.8752,  1.9557,  1.4588])     \t 1   \t 1\n",
      "131.) tensor([-1.0625,  1.2610,  0.9668])     \t 1   \t 1\n",
      "132.) tensor([ 3.7577, -1.9828,  1.0875])     \t 0   \t 0\n",
      "133.) tensor([ 0.7197,  0.1634, -0.1182])     \t 1   \t 0\n",
      "134.) tensor([-1.5219,  1.5764,  1.2453])     \t 0   \t 1\n",
      "135.) tensor([ 0.8247,  0.1814, -0.1828])     \t 0   \t 0\n",
      "136.) tensor([-1.3951,  1.7517,  1.5159])     \t 1   \t 1\n",
      "137.) tensor([0.3465, 0.6809, 0.2486])     \t 1   \t 1\n",
      "138.) tensor([-1.1780,  1.1679,  1.0378])     \t 1   \t 1\n",
      "139.) tensor([ 3.2687, -0.9873,  0.3055])     \t 0   \t 0\n",
      "140.) tensor([ 5.4637, -2.6759,  1.2237])     \t 0   \t 0\n",
      "141.) tensor([-0.3974,  0.8928,  0.5630])     \t 2   \t 1\n",
      "142.) tensor([ 2.6543, -1.4572,  1.1505])     \t 0   \t 0\n",
      "143.) tensor([-1.3186,  1.4166,  1.1213])     \t 2   \t 1\n",
      "144.) tensor([ 3.1012, -1.1970,  0.5378])     \t 0   \t 0\n",
      "145.) tensor([-0.9219,  1.0298,  0.8823])     \t 1   \t 1\n",
      "146.) tensor([-2.1410,  1.5621,  1.8921])     \t 2   \t 2\n",
      "147.) tensor([-1.3046,  1.3113,  1.1142])     \t 1   \t 1\n",
      "148.) tensor([ 2.4953, -1.1911,  1.1535])     \t 0   \t 0\n",
      "149.) tensor([-1.1780,  1.1679,  1.0378])     \t 1   \t 1\n",
      "150.) tensor([-0.6936,  1.0254,  0.7412])     \t 1   \t 1\n",
      "151.) tensor([ 4.0099, -1.5206,  0.5702])     \t 0   \t 0\n",
      "152.) tensor([-1.3032,  1.2321,  1.1139])     \t 2   \t 1\n",
      "153.) tensor([-1.3164,  1.3079,  1.1215])     \t 1   \t 1\n",
      "154.) tensor([-1.5276,  1.6169,  1.2480])     \t 0   \t 1\n",
      "155.) tensor([ 2.3753, -0.6806,  0.2761])     \t 0   \t 0\n",
      "156.) tensor([ 3.8720, -2.0309,  1.1035])     \t 0   \t 0\n",
      "157.) tensor([-0.5611,  0.9871,  0.6624])     \t 0   \t 1\n",
      "158.) tensor([ 2.4361, -1.4020,  1.0762])     \t 0   \t 0\n",
      "159.) tensor([ 5.1577, -2.0094,  0.6845])     \t 0   \t 0\n",
      "160.) tensor([-1.4680,  0.3549,  2.2166])     \t 2   \t 2\n",
      "161.) tensor([-0.7903,  1.3728,  0.8000])     \t 2   \t 1\n",
      "162.) tensor([-1.5805,  1.7579,  1.2800])     \t 1   \t 1\n",
      "163.) tensor([-1.3309,  1.5556,  1.1289])     \t 0   \t 1\n",
      "164.) tensor([-0.3014,  0.6771,  0.4657])     \t 0   \t 1\n",
      "165.) tensor([ 7.6840, -3.5436,  1.3648])     \t 0   \t 0\n",
      "166.) tensor([-1.0351,  1.3010,  0.9498])     \t 2   \t 1\n",
      "167.) tensor([-0.5850,  0.9344,  0.6772])     \t 1   \t 1\n",
      "168.) tensor([ 1.9501, -0.8614,  0.8790])     \t 2   \t 0\n",
      "169.) tensor([-0.4120,  0.9450,  0.5716])     \t 2   \t 1\n",
      "170.) tensor([ 0.0667, -1.7425,  3.1762])     \t 2   \t 2\n",
      "171.) tensor([ 3.8628, -2.0271,  1.1025])     \t 0   \t 0\n",
      "172.) tensor([-0.2896,  1.1163,  0.4959])     \t 1   \t 1\n",
      "173.) tensor([-0.8894, -0.1012,  2.1100])     \t 2   \t 2\n",
      "174.) tensor([-0.5805,  0.9052,  0.6746])     \t 1   \t 1\n",
      "175.) tensor([-1.6449,  1.7998,  1.3191])     \t 2   \t 1\n",
      "176.) tensor([-1.4761,  1.5151,  1.2180])     \t 1   \t 1\n",
      "177.) tensor([0.2740, 0.0149, 0.7907])     \t 0   \t 2\n",
      "178.) tensor([0.1877, 0.4027, 0.1995])     \t 1   \t 1\n",
      "179.) tensor([ 4.1229, -2.1341,  1.1289])     \t 0   \t 0\n",
      "180.) tensor([ 1.1128, -0.3040,  0.5446])     \t 0   \t 0\n",
      "181.) tensor([-1.7579,  1.6800,  1.3888])     \t 2   \t 1\n",
      "182.) tensor([-1.2575,  1.4623,  1.0846])     \t 1   \t 1\n",
      "183.) tensor([-1.3182,  2.8000, -0.4925])     \t 1   \t 1\n",
      "184.) tensor([-0.5724,  1.1123,  0.6685])     \t 1   \t 1\n",
      "185.) tensor([ 0.3577, -1.8893,  3.1095])     \t 2   \t 2\n",
      "186.) tensor([-1.2661,  1.2270,  1.0913])     \t 2   \t 1\n",
      "187.) tensor([-1.5093,  1.4806,  1.2382])     \t 1   \t 1\n",
      "188.) tensor([-1.8025,  1.9479,  1.4144])     \t 2   \t 1\n",
      "189.) tensor([-1.0164,  1.2013,  0.9390])     \t 2   \t 1\n",
      "190.) tensor([-1.2827,  1.0736,  1.1023])     \t 1   \t 2\n",
      "191.) tensor([-0.5054,  0.9657,  0.6263])     \t 1   \t 1\n",
      "192.) tensor([-1.8119,  0.9858,  2.0318])     \t 2   \t 2\n",
      "193.) tensor([-1.6388,  1.7930,  1.3154])     \t 1   \t 1\n",
      "194.) tensor([-0.3060,  0.6570,  0.4252])     \t 1   \t 1\n",
      "195.) tensor([ 2.6543, -1.4572,  1.1505])     \t 0   \t 0\n",
      "196.) tensor([ 5.1577, -2.0094,  0.6845])     \t 0   \t 0\n",
      "197.) tensor([-1.6175,  1.4716,  1.3043])     \t 0   \t 1\n",
      "198.) tensor([-1.1804,  1.1555,  1.0393])     \t 2   \t 1\n",
      "199.) tensor([ 4.3240, -2.2175,  1.1518])     \t 0   \t 0\n",
      "200.) tensor([-0.7120,  1.9434, -0.3524])     \t 1   \t 1\n",
      "201.) tensor([ 0.7522,  0.1738, -0.1381])     \t 2   \t 0\n",
      "202.) tensor([0.1836, 0.3625, 0.0394])     \t 1   \t 1\n",
      "\n",
      "Correct Predictions = 133\n"
     ]
    }
   ],
   "source": [
    "correct = 0  # Variable to find how many predictions we got right\n",
    "\n",
    "with torch.no_grad():\n",
    "    for i , data in enumerate(X_test):\n",
    "        Y_val = model.forward(data)\n",
    "        \n",
    "        # Will tell us the prediction of the neural network\n",
    "        print(f'{i+1}.) {str(Y_val)}     \\t {Y_test[i]}   \\t {Y_val.argmax().item()}')\n",
    "        #The highest number in each row is the prediction for that image\n",
    "\n",
    "        #Correcrt OR not\n",
    "        if Y_val.argmax().item() == Y_test[i]:\n",
    "            correct += 1\n",
    "\n",
    "    print(f'\\nCorrect Predictions = {correct}')"
   ]
  },
  {
   "cell_type": "code",
   "execution_count": 29,
   "id": "23ef7c9d-d905-456c-a183-01b2d03ad7e2",
   "metadata": {},
   "outputs": [
    {
     "name": "stdout",
     "output_type": "stream",
     "text": [
      "Confusion Matrix:\n",
      "[[44 11  2]\n",
      " [ 4 74  4]\n",
      " [13 35 15]]\n",
      "Axes(0.125,0.11;0.62x0.77)\n"
     ]
    },
    {
     "data": {
      "image/png": "[encoded data removed]",
      "text/plain": [
       "<Figure size 640x480 with 2 Axes>"
      ]
     },
     "metadata": {},
     "output_type": "display_data"
    }
   ],
   "source": [
    "from sklearn.metrics import confusion_matrix\n",
    "import numpy as np\n",
    "\n",
    "# Get model predictions\n",
    "model.eval()  # Set the model to evaluation mode\n",
    "with torch.no_grad():\n",
    "    Y_pred = model(X_test)  # Get predictions\n",
    "    _, predicted = torch.max(Y_pred, 1)  # Get class with highest probability\n",
    "\n",
    "# Convert predicted labels (PyTorch tensor) to NumPy array\n",
    "predicted = predicted.cpu().numpy()  # Move to CPU if on GPU\n",
    "\n",
    "# If Y_test is a PyTorch tensor, move it to CPU and convert to NumPy array\n",
    "if isinstance(Y_test, torch.Tensor):\n",
    "    Y_test = Y_test.cpu().numpy()  # Move to CPU if Y_test is a tensor\n",
    "\n",
    "# Generate confusion matrix\n",
    "cm = confusion_matrix(Y_test, predicted)\n",
    "# Print confusion matrix as a 2D array\n",
    "\n",
    "print(\"Confusion Matrix:\")\n",
    "print(cm)\n",
    "print(sns.heatmap(cm , cmap=\"YlGnBu\", annot=True))\n"
   ]
  },
  {
   "cell_type": "code",
   "execution_count": 31,
   "id": "1e8d4391-a38a-4757-bb75-7690d2f75bb9",
   "metadata": {},
   "outputs": [
    {
     "name": "stdout",
     "output_type": "stream",
     "text": [
      "Accuracy: 0.6584158415841584\n",
      "Classification Report:\n",
      "              precision    recall  f1-score   support\n",
      "\n",
      "           0       0.72      0.77      0.75        57\n",
      "           1       0.62      0.90      0.73        82\n",
      "           2       0.71      0.24      0.36        63\n",
      "\n",
      "    accuracy                           0.66       202\n",
      "   macro avg       0.68      0.64      0.61       202\n",
      "weighted avg       0.68      0.66      0.62       202\n",
      "\n"
     ]
    }
   ],
   "source": [
    "print(\"Accuracy:\", accuracy_score(Y_test, predicted))\n",
    "print(\"Classification Report:\")\n",
    "print(classification_report(Y_test, predicted))\n"
   ]
  },
  {
   "cell_type": "markdown",
   "id": "d674446c-a868-4f59-9295-17efc46f2ce0",
   "metadata": {},
   "source": [
    "# I GIVE UP\n",
    "# THATS AS ACCURATE AS I CAN GET IT\n",
    "# I HATE MY LIFE"
   ]
  },
  {
   "cell_type": "code",
   "execution_count": null,
   "id": "6199bc9d-1180-44b3-bf1d-b5117f9c9c41",
   "metadata": {},
   "outputs": [],
   "source": []
  }
 ],
 "metadata": {
  "kernelspec": {
   "display_name": "cuda-gpt",
   "language": "python",
   "name": "cuda"
  },
  "language_info": {
   "codemirror_mode": {
    "name": "ipython",
    "version": 3
   },
   "file_extension": ".py",
   "mimetype": "text/x-python",
   "name": "python",
   "nbconvert_exporter": "python",
   "pygments_lexer": "ipython3",
   "version": "3.12.7"
  }
 },
 "nbformat": 4,
 "nbformat_minor": 5
}
